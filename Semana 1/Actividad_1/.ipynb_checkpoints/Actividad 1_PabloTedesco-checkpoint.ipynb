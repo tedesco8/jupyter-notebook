{
 "cells": [
  {
   "cell_type": "markdown",
   "metadata": {},
   "source": [
    "<img src=\"Header Curso 2.png\" width=\"921\" height=\"89\" align=\"center\"/>\n",
    "\n",
    "<h1><center>Modelos predictivos con Machine Learning - AnáhuacX</center></h1>\n",
    "<h2><center>Actividad 1: Predicción de costos en el seguro médico</center></h2>\n"
   ]
  },
  {
   "cell_type": "markdown",
   "metadata": {},
   "source": [
    "En el siguiente ejercicio practicarás algunos de los comandos vistos durante la semana y crearás un modelo predictivo. Después de terminar tu practica responderás un formulario donde autoevaluaras tu desarrollo. <strong>Al finalizar deberás subir tu cuaderno en un archivo .zip</strong>. Es muy importante que subas tu cuaderno de la manera en cómo te indicamos.\n",
    "\n",
    "En esta actividad responderás la pregunta: \n",
    "¿Es posible predecir la prima del seguro de pacientes según sus características? Para responderla deberás seguir los pasos a detalle.\n"
   ]
  },
  {
   "cell_type": "markdown",
   "metadata": {},
   "source": [
    "<h3><center>Instrucciones</center></h3>"
   ]
  },
  {
   "cell_type": "markdown",
   "metadata": {},
   "source": [
    "1. Descargar y descomprime la base de datos <a href=\"https://courses.edx.org/asset-v1:AnahuacX+UVA-CP1-1x+2T2020+type@asset+block@insurance_clean.zip\">insurance_clean.zip</a> (El archivo extraído debe de colocarse en la misma carpeta que el este cuaderno). Abre el archivo con el paquete pandas. después imprime en pantalla los primeros 5 registros/filas."
   ]
  },
  {
   "cell_type": "code",
   "execution_count": null,
   "metadata": {},
   "outputs": [],
   "source": []
  },
  {
   "cell_type": "markdown",
   "metadata": {},
   "source": [
    "2. __¿Cuál es el quinto registro del conjunto de datos?__"
   ]
  },
  {
   "cell_type": "markdown",
   "metadata": {},
   "source": [
    "3. Tenemos un problema.  La primera columna la interpretó como variable y no como índice.\n",
    "\n",
    "<table>\n",
    "    <thead>\n",
    "    <tr bgcolor=\"darkorange\">\n",
    "        <th style=\"text-align:center;\"></th>\n",
    "        <th style=\"text-align:center;\">Unnamed: 0</th>\n",
    "        <th style=\"text-align:center;\">age</th>\n",
    "        <th style=\"text-align:center;\">bmi</th>\n",
    "        <th style=\"text-align:center;\">children</th>\n",
    "        <th style=\"text-align:center;\">charges</th>\n",
    "    </tr>\n",
    "    </thead>\n",
    "    <tbody>\n",
    "    <tr>\n",
    "        <td style=\"text-align:center;\">0</td>\n",
    "        <td style=\"text-align:center;\">1</td>    \n",
    "        <td style=\"text-align:center;\">18</td>    \n",
    "        <td style=\"text-align:center;\">33.77</td>    \n",
    "        <td style=\"text-align:center;\">1</td>    \n",
    "        <td style=\"text-align:center;\">1725.5523</td>    \n",
    "    </tr>\n",
    "    <tr>\n",
    "        <td style=\"text-align:center;\">⋮</td>\n",
    "        <td style=\"text-align:center;\">⋮</td>    \n",
    "        <td style=\"text-align:center;\">⋮</td>    \n",
    "        <td style=\"text-align:center;\">⋮</td>    \n",
    "        <td style=\"text-align:center;\">⋮</td>    \n",
    "        <td style=\"text-align:center;\">⋮</td>    \n",
    "    </tr>\n",
    "    </tbody>\n",
    "</table>\n",
    "\n",
    "Vuelve a leer el archivo con pandas pero ahora usa el parametro _index_col=0_ para indicar que la columna número cero es el índice. Imprime los  últimos 5 registros del nuevo DataFrame (recuerda guardarlo como variable _df_).\n",
    "\n"
   ]
  },
  {
   "cell_type": "code",
   "execution_count": null,
   "metadata": {},
   "outputs": [],
   "source": []
  },
  {
   "cell_type": "markdown",
   "metadata": {},
   "source": [
    "4. __¿Cuál es el último registro del conjunto de datos?__"
   ]
  },
  {
   "cell_type": "markdown",
   "metadata": {},
   "source": [
    "5. Ahora podemos analizar nuestros datos.\n",
    "\n",
    "Las variables de estudio son:\n",
    "\n",
    "<table>\n",
    "    <thead>\n",
    "    <tr bgcolor=\"darkorange\">\n",
    "        <th style=\"text-align:center;\">Nombre de variable</th><th style=\"text-align:center;\">Descripción</th>\n",
    "    </tr>\n",
    "    </thead>\n",
    "    <tbody>\n",
    "    <tr>\n",
    "        <td style=\"text-align:center;\">Age</td><td style=\"text-align:center;\">Edad del asegurado.</td>    \n",
    "    </tr>\n",
    "    <tr>\n",
    "        <td style=\"text-align:center;\">BMI</td><td style=\"text-align:center;\">Índice de masa corporal del asegurado.</td>    \n",
    "    </tr>\n",
    "    <tr>\n",
    "        <td style=\"text-align:center;\">Children</td><td style=\"text-align:center;\">Número de hijos que dependen del asegurado.</td>\n",
    "    </tr>\n",
    "    <tr>\n",
    "        <td style=\"text-align:center;\">Charges</td><td style=\"text-align:center;\">Variable a predecir. Cantidad asegurada en dólares.</td>\n",
    "    </tr>\n",
    "    </tbody>\n",
    "</table>\n",
    "\n",
    "Haras una predición con la columna __age__ como variable predictiva y __charges__ como variable de respuesta. Separa el conjunto de datos _df_ en las variables X,Y. En otras palabras, asigna la columna __age__ a X y asigna la columna __charges__ a Y.\n",
    "\n",
    "Imprime los primeros 5 valores de las variables X,Y. "
   ]
  },
  {
   "cell_type": "code",
   "execution_count": null,
   "metadata": {},
   "outputs": [],
   "source": []
  },
  {
   "cell_type": "markdown",
   "metadata": {},
   "source": [
    "6. __¿Cuáles son los primeros 5 valores de X y Y?__"
   ]
  },
  {
   "cell_type": "markdown",
   "metadata": {},
   "source": [
    "7. Tenemos que separar los datos en conjuntos de entrenamiento y prueba.\n",
    "Utiliza el método __train_test_split__ del paquete __sklearn.model_selection__ para separar en __X_train,X_test,y_train y y_test__.\n",
    "\n",
    "Utiliza el parámetro _random_state=1_ para garantizar la reproducibilidad y _test_size=0.2_ para definir una separación del 80/20.\n",
    "\n",
    "Imprime los primeros 5 valores de X_test y y_test.\n"
   ]
  },
  {
   "cell_type": "code",
   "execution_count": null,
   "metadata": {},
   "outputs": [],
   "source": []
  },
  {
   "cell_type": "markdown",
   "metadata": {},
   "source": [
    "8. __¿Cuál es el índice de los primeros 5 elementos del conjunto de pruebas?__"
   ]
  },
  {
   "cell_type": "markdown",
   "metadata": {},
   "source": [
    "9. Construye y entrena una regresión lineal usando \"LinearRegresion\" de la librería sklearn.linear_model, utiliza para el entrenamiento las variables X_train y y_train.\n",
    "Después, calcula la métrica de error $R^2$ (_r2_score_). Este cálculo hazlo con el conjunto de entrenamiento y prueba. Imprime el error obtenido.\n"
   ]
  },
  {
   "cell_type": "code",
   "execution_count": null,
   "metadata": {},
   "outputs": [],
   "source": []
  },
  {
   "cell_type": "markdown",
   "metadata": {},
   "source": [
    "10. __¿De cuánto es el error calculado con la métrica R2 para el conjunto de entrenamiento y validación?__"
   ]
  },
  {
   "cell_type": "markdown",
   "metadata": {},
   "source": [
    "11. Ahora intentemos mejorar el modelo. Cambiemos la variable age por BMI. Repite los pasos 3,4 y 5 para con BMI como variable X.\n",
    "Imprime los nuevos resultados.\n"
   ]
  },
  {
   "cell_type": "code",
   "execution_count": null,
   "metadata": {},
   "outputs": [],
   "source": []
  },
  {
   "cell_type": "markdown",
   "metadata": {},
   "source": [
    "12. __¿De cuánto es el error calculado con la métrica R2 para el conjunto de entrenamiento y validación?__"
   ]
  },
  {
   "cell_type": "markdown",
   "metadata": {},
   "source": [
    "13. __¿Cuál modelo es mejor? Aquel con la edad como variable o el que utiliza BMI como variable.__"
   ]
  },
  {
   "cell_type": "markdown",
   "metadata": {},
   "source": [
    "14. Según nuestro estudio, __¿qué variable es más relevante para nuestro modelo?__"
   ]
  },
  {
   "cell_type": "markdown",
   "metadata": {},
   "source": [
    "15. Guarda tu libreta y colócala en una carpeta comprimida con extensión __.zip__. Sube el archivo __.zip__ a la __plataforma de EdX__ y califica los ejercicios de tus demás compañeros."
   ]
  },
  {
   "cell_type": "markdown",
   "metadata": {},
   "source": [
    "<img src=\"Anáhuac_edX.png\" width=\"498\" height=\"150\" align=\"center\"/>"
   ]
  }
 ],
 "metadata": {
  "kernelspec": {
   "display_name": "Python 3",
   "language": "python",
   "name": "python3"
  },
  "language_info": {
   "codemirror_mode": {
    "name": "ipython",
    "version": 3
   },
   "file_extension": ".py",
   "mimetype": "text/x-python",
   "name": "python",
   "nbconvert_exporter": "python",
   "pygments_lexer": "ipython3",
   "version": "3.8.5"
  }
 },
 "nbformat": 4,
 "nbformat_minor": 4
}
