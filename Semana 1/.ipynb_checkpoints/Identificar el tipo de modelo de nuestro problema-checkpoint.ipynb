{
 "cells": [
  {
   "cell_type": "markdown",
   "metadata": {},
   "source": [
    "# Como identificar el tipo de problema"
   ]
  },
  {
   "cell_type": "markdown",
   "metadata": {},
   "source": [
    "<p style='text-align: justify;'>Antes de empezar a usar los diferentes algoritmos para generar predicciones debemos tener una imagen clara de nuestro problema a solucionar, especialmente debemos tener un entendimiento de nuestros datos y que representan. Ciertos algoritmos funcionan mejor con ciertos tipos de datos.</p>\n",
    "\n",
    "<p style='text-align: justify;'>Por ejemplo, algunos algoritmos son sensibles a datos faltantes, y otros se desempeñan mejor con grandes cantidades de datos. Por ello <b><font color = green>es importante conocer nuestros datos</font></b> antes que nada.</p> \n",
    "\n",
    "Para conocer tus datos te sugerimos:\n",
    "- Revisar la descripción de los datos, utilizando el método ___describe( )___.\n",
    "- Utilizar la __media y la mediana__ para determinar la tendencia central.\n",
    "- Tener especial atención a los __percentiles__ para poder identificar los rangos de los datos.\n",
    "- Usar una __matriz de correlación__ para identificar las relaciones fuertes en los datos.\n",
    "- Hacer __visualizaciones__ para mejorar tu entendimiento de los datos (Box plot, Density plot, Scatter plot). \n",
    "- __Limpiar tus datos__ (NA, outliers).\n",
    "\n",
    "<p style='text-align: justify;'>Una vez familiarizado con los datos, falta ubicar el tipo de problema que tenemos. La siguiente figura muestra un diagrama propuesta por la librería scikit-learn donde nos ofrece un método para la selección de algoritmos a utilizar dependiendo de las características de nuestro problema.</p>"
   ]
  },
  {
   "cell_type": "markdown",
   "metadata": {},
   "source": [
    "![A test image](img/ml_map.png)"
   ]
  },
  {
   "cell_type": "markdown",
   "metadata": {},
   "source": [
    "###### Fuente:\n",
    "https://scikit-learn.org/stable/tutorial/machine_learning_map/index.html"
   ]
  },
  {
   "cell_type": "markdown",
   "metadata": {},
   "source": [
    "<p style='text-align: justify;'>De la figura anterior también podemos extraer una sencilla clasificación de los tipos de problemas que vamos a abordar dependiendo lo que buscamos obtener como nuestra salida. Si queremos:</p>\n",
    "\n",
    "- __Predecir una clase__, tenemos un problema de <font color = red>__clasificación__</font>.\n",
    "- __Predecir un valor numérico__, tenemos un problema de <font color=blue>__regresión__</font>.\n",
    "- __Separar los datos__ en diferentes grupos, tenemos un problema de <font color=purple>__agrupamiento__</font>."
   ]
  },
  {
   "cell_type": "markdown",
   "metadata": {},
   "source": [
    "<p style='text-align: justify;'>Además, también podemos definir el tipo de aprendizaje a realizar definido por los datos de entrada.</p>\n",
    "\n",
    "- Si tenemos __datos etiquetados__, tenemos un problema de <font color = green>__aprendizaje supervisado__</font>.\n",
    "- Si tenemos __datos no etiquetados__ y queremos encontrar una estructura, tenemos un problema de <font color = green>__aprendizaje no supervisado__</font>.\n",
    "- Si queremos __aprender a partir de la interacción__ con un ambiente, tenemos <font color = green>__aprendizaje reforzado__</font>."
   ]
  },
  {
   "cell_type": "markdown",
   "metadata": {},
   "source": [
    "Referencias:\n",
    "- https://towardsdatascience.com/do-you-know-how-to-choose-the-right-machine-learning-algorithm-among-7-different-types-295d0b0c7f60\n",
    "- https://hackernoon.com/choosing-the-right-machine-learning-algorithm-68126944ce1f"
   ]
  },
  {
   "cell_type": "code",
   "execution_count": null,
   "metadata": {
    "collapsed": true
   },
   "outputs": [],
   "source": []
  }
 ],
 "metadata": {
  "kernelspec": {
   "display_name": "Python 3",
   "language": "python",
   "name": "python3"
  },
  "language_info": {
   "codemirror_mode": {
    "name": "ipython",
    "version": 3
   },
   "file_extension": ".py",
   "mimetype": "text/x-python",
   "name": "python",
   "nbconvert_exporter": "python",
   "pygments_lexer": "ipython3",
   "version": "3.7.1"
  }
 },
 "nbformat": 4,
 "nbformat_minor": 2
}
